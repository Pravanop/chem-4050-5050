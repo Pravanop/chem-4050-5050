{
 "cells": [
  {
   "cell_type": "code",
   "id": "initial_id",
   "metadata": {
    "collapsed": true,
    "ExecuteTime": {
     "end_time": "2025-09-05T13:07:51.586972Z",
     "start_time": "2025-09-05T13:07:51.228115Z"
    }
   },
   "source": [
    "import numpy as np\n",
    "import matplotlib.pyplot as plt"
   ],
   "outputs": [],
   "execution_count": 1
  },
  {
   "metadata": {
    "ExecuteTime": {
     "end_time": "2025-09-05T13:35:23.578138Z",
     "start_time": "2025-09-05T13:35:23.569982Z"
    }
   },
   "cell_type": "code",
   "source": [
    "h2o = {\n",
    "\t'O1' : [0.0000,\t0.0000,\t0.1173],\n",
    "    'H2' : [0.0000,\t0.7572,\t-0.4692],\n",
    "    'H3' : [0.0000,\t-0.7572,\t-0.4692]\n",
    "}\n",
    "\n",
    "h2 = {\n",
    "\t'H1': \t[0.0000,\t0.0000,\t0.0000],\n",
    "    'H2':\t[0.0000,\t0.0000,\t0.7414]\n",
    "}\n",
    "\n",
    "benzene = {\n",
    "\t'C1':\t[0.0000,\t1.3970,\t0.0000],\n",
    "\t'C2':\t[1.2098,\t0.6985,\t0.0000],\n",
    "\t'C3':\t[1.2098,\t-0.6985,\t0.0000],\n",
    "\t'C4':\t[0.0000,\t-1.3970,\t0.0000],\n",
    "\t'C5':\t[-1.2098,\t-0.6985,\t0.0000],\n",
    "\t'C6':\t[-1.2098,\t0.6985,\t0.0000],\n",
    "\t'H7':\t[0.0000,\t2.4810,\t0.0000],\n",
    "\t'H8':\t[2.1486,\t1.2405,\t0.0000],\n",
    "\t'H9':\t[2.1486,\t-1.2405,\t0.0000],\n",
    "\t'H10':\t[0.0000,\t-2.4810,\t0.0000],\n",
    "\t'H11':\t[-2.1486,\t-1.2405,\t0.0000],\n",
    "\t'H12':\t[-2.1486,\t1.2405,\t0.0000]\n",
    "}\n",
    "\n",
    "print(h2o)\n",
    "print(h2)\n",
    "print(benzene)"
   ],
   "id": "133d4cd478fe82a2",
   "outputs": [
    {
     "name": "stdout",
     "output_type": "stream",
     "text": [
      "{'O1': [0.0, 0.0, 0.1173], 'H2': [0.0, 0.7572, -0.4692], 'H3': [0.0, -0.7572, -0.4692]}\n",
      "{'H1': [0.0, 0.0, 0.0], 'H2': [0.0, 0.0, 0.7414]}\n",
      "{'C1': [0.0, 1.397, 0.0], 'C2': [1.2098, 0.6985, 0.0], 'C3': [1.2098, -0.6985, 0.0], 'C4': [0.0, -1.397, 0.0], 'C5': [-1.2098, -0.6985, 0.0], 'C6': [-1.2098, 0.6985, 0.0], 'H7': [0.0, 2.481, 0.0], 'H8': [2.1486, 1.2405, 0.0], 'H9': [2.1486, -1.2405, 0.0], 'H10': [0.0, -2.481, 0.0], 'H11': [-2.1486, -1.2405, 0.0], 'H12': [-2.1486, 1.2405, 0.0]}\n"
     ]
    }
   ],
   "execution_count": 3
  },
  {
   "metadata": {
    "ExecuteTime": {
     "end_time": "2025-09-05T13:41:51.438388Z",
     "start_time": "2025-09-05T13:41:51.428600Z"
    }
   },
   "cell_type": "code",
   "source": [
    "# Part 2\n",
    "\n",
    "def calculate_bond_length(coord1, coord2):\n",
    "\td = np.array(coord1) - np.array(coord2)\n",
    "\td = d**2\n",
    "\td = np.sqrt(np.sum(d))\n",
    "\tif d > 2:\n",
    "\t\tprint(\"Warning: Bond length is greater than 2 Angstroms, which is too long.\")\n",
    "\n",
    "\treturn d"
   ],
   "id": "28a8ae9f8f8009ad",
   "outputs": [],
   "execution_count": 4
  },
  {
   "metadata": {
    "ExecuteTime": {
     "end_time": "2025-09-05T13:46:03.345578Z",
     "start_time": "2025-09-05T13:46:03.337472Z"
    }
   },
   "cell_type": "code",
   "source": [
    "# Part 3\n",
    "\n",
    "def calculate_bond_angle(coord1, coord2, coord3):\n",
    "\tab = np.array(coord1) - np.array(coord2)\n",
    "\tbc = np.array(coord3) - np.array(coord2)\n",
    "\tdot_prod = np.dot(ab, bc)\n",
    "\tmag_ab = np.sqrt(np.sum(ab**2))\n",
    "\tmag_bc = np.sqrt(np.sum(bc**2))\n",
    "\tcos_theta = dot_prod / (mag_ab * mag_bc)\n",
    "\ttheta = np.arccos(cos_theta)\n",
    "\tif theta < np.pi:\n",
    "\t\tangle = 'acute'\n",
    "\telif theta == np.pi:\n",
    "\t\tangle = 'right'\n",
    "\telse:\n",
    "\t\tangle = 'obtuse'\n",
    "\n",
    "\treturn theta, angle"
   ],
   "id": "e6ae15f02d12d117",
   "outputs": [],
   "execution_count": 5
  },
  {
   "metadata": {
    "ExecuteTime": {
     "end_time": "2025-09-05T13:49:54.258131Z",
     "start_time": "2025-09-05T13:49:54.253544Z"
    }
   },
   "cell_type": "code",
   "source": [
    "#part 4\n",
    "\n",
    "def calculate_all_bond_lengths(mol: dict):\n",
    "\tbond_lengths = []\n",
    "\tfor atom1 in mol:\n",
    "\t\tfor atom2 in mol:\n",
    "\t\t\tif atom1 != atom2:\n",
    "\t\t\t\tbond_length = calculate_bond_length(mol[atom1], mol[atom2])\n",
    "\t\t\t\tbond_lengths.append(bond_length)\n",
    "\n",
    "\treturn bond_lengths\n",
    "\n",
    "print(calculate_all_bond_lengths(h2o))\n",
    "print(calculate_all_bond_lengths(h2))\n",
    "print(calculate_all_bond_lengths(benzene))"
   ],
   "id": "7768df27d59012be",
   "outputs": [
    {
     "name": "stdout",
     "output_type": "stream",
     "text": [
      "[np.float64(0.9577755948028744), np.float64(0.9577755948028744), np.float64(0.9577755948028744), np.float64(1.5144), np.float64(0.9577755948028744), np.float64(1.5144)]\n",
      "[np.float64(0.7414), np.float64(0.7414)]\n",
      "Warning: Bond length is greater than 2 Angstroms, which is too long.\n",
      "Warning: Bond length is greater than 2 Angstroms, which is too long.\n",
      "Warning: Bond length is greater than 2 Angstroms, which is too long.\n",
      "Warning: Bond length is greater than 2 Angstroms, which is too long.\n",
      "Warning: Bond length is greater than 2 Angstroms, which is too long.\n",
      "Warning: Bond length is greater than 2 Angstroms, which is too long.\n",
      "Warning: Bond length is greater than 2 Angstroms, which is too long.\n",
      "Warning: Bond length is greater than 2 Angstroms, which is too long.\n",
      "Warning: Bond length is greater than 2 Angstroms, which is too long.\n",
      "Warning: Bond length is greater than 2 Angstroms, which is too long.\n",
      "Warning: Bond length is greater than 2 Angstroms, which is too long.\n",
      "Warning: Bond length is greater than 2 Angstroms, which is too long.\n",
      "Warning: Bond length is greater than 2 Angstroms, which is too long.\n",
      "Warning: Bond length is greater than 2 Angstroms, which is too long.\n",
      "Warning: Bond length is greater than 2 Angstroms, which is too long.\n",
      "Warning: Bond length is greater than 2 Angstroms, which is too long.\n",
      "Warning: Bond length is greater than 2 Angstroms, which is too long.\n",
      "Warning: Bond length is greater than 2 Angstroms, which is too long.\n",
      "Warning: Bond length is greater than 2 Angstroms, which is too long.\n",
      "Warning: Bond length is greater than 2 Angstroms, which is too long.\n",
      "Warning: Bond length is greater than 2 Angstroms, which is too long.\n",
      "Warning: Bond length is greater than 2 Angstroms, which is too long.\n",
      "Warning: Bond length is greater than 2 Angstroms, which is too long.\n",
      "Warning: Bond length is greater than 2 Angstroms, which is too long.\n",
      "Warning: Bond length is greater than 2 Angstroms, which is too long.\n",
      "Warning: Bond length is greater than 2 Angstroms, which is too long.\n",
      "Warning: Bond length is greater than 2 Angstroms, which is too long.\n",
      "Warning: Bond length is greater than 2 Angstroms, which is too long.\n",
      "Warning: Bond length is greater than 2 Angstroms, which is too long.\n",
      "Warning: Bond length is greater than 2 Angstroms, which is too long.\n",
      "Warning: Bond length is greater than 2 Angstroms, which is too long.\n",
      "Warning: Bond length is greater than 2 Angstroms, which is too long.\n",
      "Warning: Bond length is greater than 2 Angstroms, which is too long.\n",
      "Warning: Bond length is greater than 2 Angstroms, which is too long.\n",
      "Warning: Bond length is greater than 2 Angstroms, which is too long.\n",
      "Warning: Bond length is greater than 2 Angstroms, which is too long.\n",
      "Warning: Bond length is greater than 2 Angstroms, which is too long.\n",
      "Warning: Bond length is greater than 2 Angstroms, which is too long.\n",
      "Warning: Bond length is greater than 2 Angstroms, which is too long.\n",
      "Warning: Bond length is greater than 2 Angstroms, which is too long.\n",
      "Warning: Bond length is greater than 2 Angstroms, which is too long.\n",
      "Warning: Bond length is greater than 2 Angstroms, which is too long.\n",
      "Warning: Bond length is greater than 2 Angstroms, which is too long.\n",
      "Warning: Bond length is greater than 2 Angstroms, which is too long.\n",
      "Warning: Bond length is greater than 2 Angstroms, which is too long.\n",
      "Warning: Bond length is greater than 2 Angstroms, which is too long.\n",
      "Warning: Bond length is greater than 2 Angstroms, which is too long.\n",
      "Warning: Bond length is greater than 2 Angstroms, which is too long.\n",
      "Warning: Bond length is greater than 2 Angstroms, which is too long.\n",
      "Warning: Bond length is greater than 2 Angstroms, which is too long.\n",
      "Warning: Bond length is greater than 2 Angstroms, which is too long.\n",
      "Warning: Bond length is greater than 2 Angstroms, which is too long.\n",
      "Warning: Bond length is greater than 2 Angstroms, which is too long.\n",
      "Warning: Bond length is greater than 2 Angstroms, which is too long.\n",
      "Warning: Bond length is greater than 2 Angstroms, which is too long.\n",
      "Warning: Bond length is greater than 2 Angstroms, which is too long.\n",
      "Warning: Bond length is greater than 2 Angstroms, which is too long.\n",
      "Warning: Bond length is greater than 2 Angstroms, which is too long.\n",
      "Warning: Bond length is greater than 2 Angstroms, which is too long.\n",
      "Warning: Bond length is greater than 2 Angstroms, which is too long.\n",
      "Warning: Bond length is greater than 2 Angstroms, which is too long.\n",
      "Warning: Bond length is greater than 2 Angstroms, which is too long.\n",
      "Warning: Bond length is greater than 2 Angstroms, which is too long.\n",
      "Warning: Bond length is greater than 2 Angstroms, which is too long.\n",
      "Warning: Bond length is greater than 2 Angstroms, which is too long.\n",
      "Warning: Bond length is greater than 2 Angstroms, which is too long.\n",
      "Warning: Bond length is greater than 2 Angstroms, which is too long.\n",
      "Warning: Bond length is greater than 2 Angstroms, which is too long.\n",
      "Warning: Bond length is greater than 2 Angstroms, which is too long.\n",
      "Warning: Bond length is greater than 2 Angstroms, which is too long.\n",
      "Warning: Bond length is greater than 2 Angstroms, which is too long.\n",
      "Warning: Bond length is greater than 2 Angstroms, which is too long.\n",
      "Warning: Bond length is greater than 2 Angstroms, which is too long.\n",
      "Warning: Bond length is greater than 2 Angstroms, which is too long.\n",
      "Warning: Bond length is greater than 2 Angstroms, which is too long.\n",
      "Warning: Bond length is greater than 2 Angstroms, which is too long.\n",
      "Warning: Bond length is greater than 2 Angstroms, which is too long.\n",
      "Warning: Bond length is greater than 2 Angstroms, which is too long.\n",
      "Warning: Bond length is greater than 2 Angstroms, which is too long.\n",
      "Warning: Bond length is greater than 2 Angstroms, which is too long.\n",
      "Warning: Bond length is greater than 2 Angstroms, which is too long.\n",
      "Warning: Bond length is greater than 2 Angstroms, which is too long.\n",
      "Warning: Bond length is greater than 2 Angstroms, which is too long.\n",
      "Warning: Bond length is greater than 2 Angstroms, which is too long.\n",
      "Warning: Bond length is greater than 2 Angstroms, which is too long.\n",
      "Warning: Bond length is greater than 2 Angstroms, which is too long.\n",
      "Warning: Bond length is greater than 2 Angstroms, which is too long.\n",
      "Warning: Bond length is greater than 2 Angstroms, which is too long.\n",
      "Warning: Bond length is greater than 2 Angstroms, which is too long.\n",
      "Warning: Bond length is greater than 2 Angstroms, which is too long.\n",
      "Warning: Bond length is greater than 2 Angstroms, which is too long.\n",
      "Warning: Bond length is greater than 2 Angstroms, which is too long.\n",
      "Warning: Bond length is greater than 2 Angstroms, which is too long.\n",
      "Warning: Bond length is greater than 2 Angstroms, which is too long.\n",
      "Warning: Bond length is greater than 2 Angstroms, which is too long.\n",
      "Warning: Bond length is greater than 2 Angstroms, which is too long.\n",
      "Warning: Bond length is greater than 2 Angstroms, which is too long.\n",
      "Warning: Bond length is greater than 2 Angstroms, which is too long.\n",
      "Warning: Bond length is greater than 2 Angstroms, which is too long.\n",
      "Warning: Bond length is greater than 2 Angstroms, which is too long.\n",
      "Warning: Bond length is greater than 2 Angstroms, which is too long.\n",
      "Warning: Bond length is greater than 2 Angstroms, which is too long.\n",
      "Warning: Bond length is greater than 2 Angstroms, which is too long.\n",
      "Warning: Bond length is greater than 2 Angstroms, which is too long.\n",
      "Warning: Bond length is greater than 2 Angstroms, which is too long.\n",
      "Warning: Bond length is greater than 2 Angstroms, which is too long.\n",
      "Warning: Bond length is greater than 2 Angstroms, which is too long.\n",
      "Warning: Bond length is greater than 2 Angstroms, which is too long.\n",
      "[np.float64(1.3969675336241714), np.float64(2.4196562338481056), np.float64(2.794), np.float64(2.4196562338481056), np.float64(1.3969675336241714), np.float64(1.0839999999999999), np.float64(2.1542920438046465), np.float64(3.4018947970212134), np.float64(3.878), np.float64(3.4018947970212134), np.float64(2.1542920438046465), np.float64(1.3969675336241714), np.float64(1.397), np.float64(2.4196562338481056), np.float64(2.7939350672483427), np.float64(2.4196), np.float64(2.1542799934084704), np.float64(1.0840246491662446), np.float64(2.154313449802512), np.float64(3.401887165971264), np.float64(3.8779597161394035), np.float64(3.401854576550855), np.float64(2.4196562338481056), np.float64(1.397), np.float64(1.3969675336241714), np.float64(2.4196), np.float64(2.7939350672483427), np.float64(3.401887165971264), np.float64(2.154313449802512), np.float64(1.0840246491662446), np.float64(2.1542799934084704), np.float64(3.401854576550855), np.float64(3.8779597161394035), np.float64(2.794), np.float64(2.4196562338481056), np.float64(1.3969675336241714), np.float64(1.3969675336241714), np.float64(2.4196562338481056), np.float64(3.878), np.float64(3.4018947970212134), np.float64(2.1542920438046465), np.float64(1.0839999999999999), np.float64(2.1542920438046465), np.float64(3.4018947970212134), np.float64(2.4196562338481056), np.float64(2.7939350672483427), np.float64(2.4196), np.float64(1.3969675336241714), np.float64(1.397), np.float64(3.401887165971264), np.float64(3.8779597161394035), np.float64(3.401854576550855), np.float64(2.1542799934084704), np.float64(1.0840246491662446), np.float64(2.154313449802512), np.float64(1.3969675336241714), np.float64(2.4196), np.float64(2.7939350672483427), np.float64(2.4196562338481056), np.float64(1.397), np.float64(2.1542799934084704), np.float64(3.401854576550855), np.float64(3.8779597161394035), np.float64(3.401887165971264), np.float64(2.154313449802512), np.float64(1.0840246491662446), np.float64(1.0839999999999999), np.float64(2.1542799934084704), np.float64(3.401887165971264), np.float64(3.878), np.float64(3.401887165971264), np.float64(2.1542799934084704), np.float64(2.4809921825753505), np.float64(4.297213540190899), np.float64(4.962), np.float64(4.297213540190899), np.float64(2.4809921825753505), np.float64(2.1542920438046465), np.float64(1.0840246491662446), np.float64(2.154313449802512), np.float64(3.4018947970212134), np.float64(3.8779597161394035), np.float64(3.401854576550855), np.float64(2.4809921825753505), np.float64(2.481), np.float64(4.297213540190899), np.float64(4.961984365150701), np.float64(4.2972), np.float64(3.4018947970212134), np.float64(2.154313449802512), np.float64(1.0840246491662446), np.float64(2.1542920438046465), np.float64(3.401854576550855), np.float64(3.8779597161394035), np.float64(4.297213540190899), np.float64(2.481), np.float64(2.4809921825753505), np.float64(4.2972), np.float64(4.961984365150701), np.float64(3.878), np.float64(3.401887165971264), np.float64(2.1542799934084704), np.float64(1.0839999999999999), np.float64(2.1542799934084704), np.float64(3.401887165971264), np.float64(4.962), np.float64(4.297213540190899), np.float64(2.4809921825753505), np.float64(2.4809921825753505), np.float64(4.297213540190899), np.float64(3.4018947970212134), np.float64(3.8779597161394035), np.float64(3.401854576550855), np.float64(2.1542920438046465), np.float64(1.0840246491662446), np.float64(2.154313449802512), np.float64(4.297213540190899), np.float64(4.961984365150701), np.float64(4.2972), np.float64(2.4809921825753505), np.float64(2.481), np.float64(2.1542920438046465), np.float64(3.401854576550855), np.float64(3.8779597161394035), np.float64(3.4018947970212134), np.float64(2.154313449802512), np.float64(1.0840246491662446), np.float64(2.4809921825753505), np.float64(4.2972), np.float64(4.961984365150701), np.float64(4.297213540190899), np.float64(2.481)]\n"
     ]
    }
   ],
   "execution_count": 7
  },
  {
   "metadata": {
    "ExecuteTime": {
     "end_time": "2025-09-05T13:52:00.630338Z",
     "start_time": "2025-09-05T13:52:00.612951Z"
    }
   },
   "cell_type": "code",
   "source": [
    "def calculate_all_bond_angles(mol: dict):\n",
    "\tbond_angles = []\n",
    "\tfor atom1 in mol:\n",
    "\t\tfor atom2 in mol:\n",
    "\t\t\tfor atom3 in mol:\n",
    "\t\t\t\tif atom1 != atom2 and atom2 != atom3 and atom1 != atom3:\n",
    "\t\t\t\t\tbond_angle, _ = calculate_bond_angle(mol[atom1], mol[atom2], mol[atom3]) #ignore classification of angle\n",
    "\t\t\t\t\tbond_angles.append(bond_angle) # it will be in radians\n",
    "\n",
    "\treturn bond_angles\n",
    "\n",
    "print(calculate_all_bond_angles(h2o))\n",
    "print(calculate_all_bond_angles(h2)) # no angles in H2\n",
    "print(calculate_all_bond_angles(benzene))"
   ],
   "id": "46b3e0fb4ca8ffb8",
   "outputs": [
    {
     "name": "stdout",
     "output_type": "stream",
     "text": [
      "[np.float64(0.6590377321281587), np.float64(0.6590377321281587), np.float64(1.8235171893334756), np.float64(0.6590377321281587), np.float64(1.8235171893334756), np.float64(0.6590377321281587)]\n",
      "[]\n",
      "[np.float64(2.0944085204168643), np.float64(1.5708231626343416), np.float64(1.0472243872439357), np.float64(0.523612193621968), np.float64(0.4508903367359574), np.float64(2.09439481243709), np.float64(2.5453097677771472), np.float64(1.7308246041690067), np.float64(1.0472169666879376), np.float64(0.3636054553867524), np.float64(0.5235853577825226), np.float64(1.5708231626343416), np.float64(1.0472109690123736), np.float64(0.5235987753904059), np.float64(0.16000144153466453), np.float64(0.9744866051428057), np.float64(2.6179673321081554), np.float64(2.021713499370299), np.float64(1.2072177072475891), np.float64(0.5236061959464039), np.float64(0.5235853577825226), np.float64(1.0471841331729288), np.float64(1.0471841331729288), np.float64(0.5235853577825226), np.float64(0.0), np.float64(0.6836012780734906), np.float64(1.4980866027763784), np.float64(3.141592653589793), np.float64(1.4980866027763784), np.float64(0.6836012780734906), np.float64(0.5235987753904059), np.float64(1.0472109690123736), np.float64(1.5708231626343416), np.float64(0.5235853577825226), np.float64(0.16000144153466453), np.float64(0.5236061959464039), np.float64(1.2072177072475891), np.float64(2.021713499370299), np.float64(2.6179673321081554), np.float64(0.9744866051428057), np.float64(0.523612193621968), np.float64(1.0472243872439357), np.float64(1.5708231626343416), np.float64(2.0944085204168643), np.float64(0.4508903367359574), np.float64(0.3636054553867524), np.float64(1.0472169666879376), np.float64(1.7308246041690067), np.float64(2.5453097677771472), np.float64(2.09439481243709), np.float64(0.5962937964369718), np.float64(0.36358391624785746), np.float64(0.0), np.float64(0.36358391624785746), np.float64(0.5962937964369718), np.float64(1.0471957320072316), np.float64(0.5235969564127542), np.float64(0.0), np.float64(0.5235969564127542), np.float64(1.0471957320072316), np.float64(0.5962953715492533), np.float64(1.1926048034531318), np.float64(0.9599047727399243), np.float64(0.5963144970844879), np.float64(0.23271646225373394), np.float64(0.4508908707691473), np.float64(1.6435060508134147), np.float64(1.1199090944006607), np.float64(0.5963103188061833), np.float64(0.0727097240185177), np.float64(0.23270003071320775), np.float64(0.36360940119067064), np.float64(0.9599047727399243), np.float64(0.7271883104861903), np.float64(0.3635902756554367), np.float64(0.16000432166073672), np.float64(0.6836012780734908), np.float64(1.410795643509071), np.float64(0.8871950487214062), np.float64(0.36359445393374107), np.float64(0.36358391624785746), np.float64(0.5962937964369716), np.float64(0.0), np.float64(0.5962937964369716), np.float64(0.36358391624785746), np.float64(0.0), np.float64(0.5235969564127542), np.float64(1.0471957320072316), np.float64(1.0471957320072316), np.float64(0.5235969564127542), np.float64(0.3635902756554367), np.float64(0.7271883104861903), np.float64(0.9599047727399243), np.float64(0.36360940119067064), np.float64(0.23270003071320775), np.float64(0.16000432166073672), np.float64(0.36359445393374107), np.float64(0.8871950487214062), np.float64(1.410795643509071), np.float64(0.6836012780734908), np.float64(0.23271646225373394), np.float64(0.5963144970844879), np.float64(0.9599047727399243), np.float64(1.1926048034531318), np.float64(0.5962953715492533), np.float64(0.4508908707691473), np.float64(0.0727097240185177), np.float64(0.5963103188061833), np.float64(1.1199090944006607), np.float64(1.6435060508134147), np.float64(0.5235987753904059), np.float64(1.0471841331729288), np.float64(1.5707694909554515), np.float64(2.0943682663458576), np.float64(2.0944085204168643), np.float64(0.45090246960345026), np.float64(0.3635828550994387), np.float64(1.0471841331729288), np.float64(1.7307854112464192), np.float64(2.545270735949307), np.float64(0.5235853577825226), np.float64(2.0944085204168643), np.float64(1.5707963267948966), np.float64(1.0471841331729288), np.float64(0.36358391624785746), np.float64(0.4509012473602828), np.float64(2.094381974325632), np.float64(2.5452988571528214), np.float64(1.7308030650301123), np.float64(1.047191553728927), np.float64(0.5235853577825226), np.float64(0.5235987753904059), np.float64(1.5707694909554515), np.float64(1.0471707155650456), np.float64(0.5235853577825228), np.float64(0.16001592029096737), np.float64(0.9745012449938557), np.float64(2.6180072958072707), np.float64(2.0216719605589013), np.float64(1.2071866358560133), np.float64(0.5235987753904059), np.float64(0.523612193621968), np.float64(1.0472243872439357), np.float64(1.0471841331729288), np.float64(0.6836002169250712), np.float64(7.420568817524111e-06), np.float64(0.6836189318571835), np.float64(1.4981147239798929), np.float64(3.1415661074983845), np.float64(1.4980853805332117), np.float64(0.523612193621968), np.float64(0.523612193621968), np.float64(1.0472109690123736), np.float64(1.5707963267948966), np.float64(0.9745025303579251), np.float64(0.16000673823521508), np.float64(0.5236047730659698), np.float64(1.207212410547039), np.float64(2.0216975741551795), np.float64(2.618007006059058), np.float64(0.5962937964369718), np.float64(0.23270988018911437), np.float64(0.5962937964369716), np.float64(0.9598777126848292), np.float64(1.1925875928739433), np.float64(0.45090193557026015), np.float64(0.0726968400242177), np.float64(0.5962937964369714), np.float64(1.1198907528497257), np.float64(1.643489528444203), np.float64(0.5962953715492533), np.float64(0.5963094319038781), np.float64(0.36360940119067064), np.float64(1.912553445299817e-05), np.float64(0.3635789092955193), np.float64(1.0471862423184004), np.float64(1.0472106792641611), np.float64(0.5236137228514072), np.float64(1.4947253704319952e-05), np.float64(0.5235856475307351), np.float64(0.23270003071320775), np.float64(0.5963094319038781), np.float64(1.1926048034531318), np.float64(0.9598883411993978), np.float64(0.5962903063686437), np.float64(0.07269570905247086), np.float64(0.4509012473602828), np.float64(1.6434956742222786), np.float64(1.1198950794346136), np.float64(0.5962944846469485), np.float64(0.36358391624785746), np.float64(0.23270988018911437), np.float64(0.36358391624785746), np.float64(0.9598777126848292), np.float64(0.7271678324957153), np.float64(0.36358391624785746), np.float64(0.16001304016489765), np.float64(0.6836118157593742), np.float64(1.4107796482550892), np.float64(0.8871808726606119), np.float64(0.3635902756554367), np.float64(0.3635980348307538), np.float64(0.5963144970844879), np.float64(1.912553445299817e-05), np.float64(0.5962903063686437), np.float64(0.5235945973161729), np.float64(4.178334489585642e-06), np.float64(0.52360477306597), np.float64(1.047205367853635), np.float64(1.047191553728927), np.float64(0.23271646225373394), np.float64(0.3635980348307538), np.float64(0.7271883104861903), np.float64(0.9598883411993978), np.float64(0.3635789092955193), np.float64(0.6836073330228807), np.float64(0.16000673823521508), np.float64(0.3635938565524495), np.float64(0.8871926321469269), np.float64(1.4107895885596808), np.float64(0.5235987753904059), np.float64(0.5235853577825226), np.float64(1.0471707155650456), np.float64(1.5707694909554515), np.float64(2.6180072958072707), np.float64(0.9745012449938557), np.float64(0.16001592029096737), np.float64(0.5235853577825228), np.float64(1.2071866358560133), np.float64(2.0216719605589013), np.float64(2.0944085204168643), np.float64(0.5235853577825226), np.float64(1.0471841331729288), np.float64(1.5707963267948966), np.float64(2.5452988571528214), np.float64(2.094381974325632), np.float64(0.4509012473602828), np.float64(0.36358391624785746), np.float64(1.047191553728927), np.float64(1.7308030650301123), np.float64(1.0471841331729288), np.float64(0.5235987753904059), np.float64(2.0943682663458576), np.float64(1.5707694909554515), np.float64(1.0471841331729288), np.float64(0.3635828550994387), np.float64(0.45090246960345026), np.float64(2.0944085204168643), np.float64(2.545270735949307), np.float64(1.7307854112464192), np.float64(1.0472109690123736), np.float64(0.523612193621968), np.float64(0.523612193621968), np.float64(1.5707963267948966), np.float64(1.207212410547039), np.float64(0.5236047730659698), np.float64(0.16000673823521508), np.float64(0.9745025303579251), np.float64(2.618007006059058), np.float64(2.0216975741551795), np.float64(1.0472243872439357), np.float64(0.523612193621968), np.float64(0.5235987753904059), np.float64(1.0471841331729288), np.float64(1.4981147239798929), np.float64(0.6836189318571835), np.float64(7.420568817524111e-06), np.float64(0.6836002169250712), np.float64(1.4980853805332117), np.float64(3.1415661074983845), np.float64(0.36358391624785746), np.float64(0.23270988018911437), np.float64(0.36358391624785746), np.float64(0.7271678324957153), np.float64(0.9598777126848292), np.float64(0.6836118157593742), np.float64(0.16001304016489765), np.float64(0.36358391624785746), np.float64(0.8871808726606119), np.float64(1.4107796482550892), np.float64(1.1926048034531318), np.float64(0.5963094319038781), np.float64(0.23270003071320775), np.float64(0.5962903063686437), np.float64(0.9598883411993978), np.float64(1.6434956742222786), np.float64(0.4509012473602828), np.float64(0.07269570905247086), np.float64(0.5962944846469485), np.float64(1.1198950794346136), np.float64(0.36360940119067064), np.float64(0.5963094319038781), np.float64(0.5962953715492533), np.float64(0.3635789092955193), np.float64(1.912553445299817e-05), np.float64(0.5236137228514072), np.float64(1.0472106792641611), np.float64(1.0471862423184004), np.float64(0.5235856475307351), np.float64(1.4947253704319952e-05), np.float64(0.5962937964369716), np.float64(0.23270988018911437), np.float64(0.5962937964369718), np.float64(1.1925875928739433), np.float64(0.9598777126848292), np.float64(0.5962937964369714), np.float64(0.0726968400242177), np.float64(0.45090193557026015), np.float64(1.643489528444203), np.float64(1.1198907528497257), np.float64(0.7271883104861903), np.float64(0.3635980348307538), np.float64(0.23271646225373394), np.float64(0.3635789092955193), np.float64(0.9598883411993978), np.float64(0.8871926321469269), np.float64(0.3635938565524495), np.float64(0.16000673823521508), np.float64(0.6836073330228807), np.float64(1.4107895885596808), np.float64(0.5963144970844879), np.float64(0.3635980348307538), np.float64(0.3635902756554367), np.float64(0.5962903063686437), np.float64(1.912553445299817e-05), np.float64(1.047205367853635), np.float64(0.52360477306597), np.float64(4.178334489585642e-06), np.float64(0.5235945973161729), np.float64(1.047191553728927), np.float64(1.0471841331729288), np.float64(0.5235853577825226), np.float64(0.5235853577825226), np.float64(1.0471841331729288), np.float64(3.141592653589793), np.float64(1.4980866027763784), np.float64(0.6836012780734906), np.float64(0.0), np.float64(0.6836012780734906), np.float64(1.4980866027763784), np.float64(1.5708231626343416), np.float64(0.5235853577825226), np.float64(0.5235987753904059), np.float64(1.0472109690123736), np.float64(2.021713499370299), np.float64(2.6179673321081554), np.float64(0.9744866051428057), np.float64(0.16000144153466453), np.float64(0.5236061959464039), np.float64(1.2072177072475891), np.float64(1.5708231626343416), np.float64(2.0944085204168643), np.float64(0.523612193621968), np.float64(1.0472243872439357), np.float64(1.7308246041690067), np.float64(2.5453097677771472), np.float64(2.09439481243709), np.float64(0.4508903367359574), np.float64(0.3636054553867524), np.float64(1.0472169666879376), np.float64(1.5708231626343416), np.float64(1.0472243872439357), np.float64(0.523612193621968), np.float64(2.0944085204168643), np.float64(1.7308246041690067), np.float64(1.0472169666879376), np.float64(0.3636054553867524), np.float64(0.4508903367359574), np.float64(2.09439481243709), np.float64(2.5453097677771472), np.float64(1.5708231626343416), np.float64(1.0472109690123736), np.float64(0.5235987753904059), np.float64(0.5235853577825226), np.float64(2.021713499370299), np.float64(1.2072177072475891), np.float64(0.5236061959464039), np.float64(0.16000144153466453), np.float64(0.9744866051428057), np.float64(2.6179673321081554), np.float64(0.0), np.float64(0.5962937964369716), np.float64(0.36358391624785746), np.float64(0.36358391624785746), np.float64(0.5962937964369716), np.float64(1.0471957320072316), np.float64(0.5235969564127542), np.float64(0.0), np.float64(0.5235969564127542), np.float64(1.0471957320072316), np.float64(0.9599047727399243), np.float64(0.36360940119067064), np.float64(0.23270003071320775), np.float64(0.3635902756554367), np.float64(0.7271883104861903), np.float64(1.410795643509071), np.float64(0.6836012780734908), np.float64(0.16000432166073672), np.float64(0.36359445393374107), np.float64(0.8871950487214062), np.float64(0.9599047727399243), np.float64(1.1926048034531318), np.float64(0.5962953715492533), np.float64(0.23271646225373394), np.float64(0.5963144970844879), np.float64(1.1199090944006607), np.float64(1.6435060508134147), np.float64(0.4508908707691473), np.float64(0.0727097240185177), np.float64(0.5963103188061833), np.float64(0.0), np.float64(0.36358391624785746), np.float64(0.5962937964369718), np.float64(0.5962937964369718), np.float64(0.36358391624785746), np.float64(0.0), np.float64(0.5235969564127542), np.float64(1.0471957320072316), np.float64(1.0471957320072316), np.float64(0.5235969564127542), np.float64(0.9599047727399243), np.float64(0.5963144970844879), np.float64(0.23271646225373394), np.float64(0.5962953715492533), np.float64(1.1926048034531318), np.float64(1.1199090944006607), np.float64(0.5963103188061833), np.float64(0.0727097240185177), np.float64(0.4508908707691473), np.float64(1.6435060508134147), np.float64(0.9599047727399243), np.float64(0.7271883104861903), np.float64(0.3635902756554367), np.float64(0.23270003071320775), np.float64(0.36360940119067064), np.float64(1.410795643509071), np.float64(0.8871950487214062), np.float64(0.36359445393374107), np.float64(0.16000432166073672), np.float64(0.6836012780734908), np.float64(1.5707694909554515), np.float64(1.0471707155650456), np.float64(0.5235853577825226), np.float64(0.5235987753904059), np.float64(2.6180072958072707), np.float64(2.0216719605589013), np.float64(1.2071866358560133), np.float64(0.5235853577825228), np.float64(0.16001592029096737), np.float64(0.9745012449938557), np.float64(1.0472243872439357), np.float64(1.0471841331729288), np.float64(0.5235987753904059), np.float64(0.523612193621968), np.float64(1.4981147239798929), np.float64(3.1415661074983845), np.float64(1.4980853805332117), np.float64(0.6836002169250712), np.float64(7.420568817524111e-06), np.float64(0.6836189318571835), np.float64(1.0472109690123736), np.float64(1.5707963267948966), np.float64(0.523612193621968), np.float64(0.523612193621968), np.float64(1.207212410547039), np.float64(2.0216975741551795), np.float64(2.618007006059058), np.float64(0.9745025303579251), np.float64(0.16000673823521508), np.float64(0.5236047730659698), np.float64(1.0471841331729288), np.float64(1.5707694909554515), np.float64(2.0943682663458576), np.float64(0.5235987753904059), np.float64(1.0471841331729288), np.float64(1.7307854112464192), np.float64(2.545270735949307), np.float64(2.0944085204168643), np.float64(0.45090246960345026), np.float64(0.3635828550994387), np.float64(2.0944085204168643), np.float64(1.5707963267948966), np.float64(1.0471841331729288), np.float64(0.5235853577825226), np.float64(2.5452988571528214), np.float64(1.7308030650301123), np.float64(1.047191553728927), np.float64(0.36358391624785746), np.float64(0.4509012473602828), np.float64(2.094381974325632), np.float64(0.36358391624785746), np.float64(0.9598777126848292), np.float64(0.7271678324957153), np.float64(0.36358391624785746), np.float64(0.23270988018911437), np.float64(1.4107796482550892), np.float64(0.8871808726606119), np.float64(0.36358391624785746), np.float64(0.16001304016489765), np.float64(0.6836118157593742), np.float64(0.5963144970844879), np.float64(1.912553445299817e-05), np.float64(0.5962903063686437), np.float64(0.3635902756554367), np.float64(0.3635980348307538), np.float64(1.047205367853635), np.float64(1.047191553728927), np.float64(0.5235945973161729), np.float64(4.178334489585642e-06), np.float64(0.52360477306597), np.float64(0.7271883104861903), np.float64(0.9598883411993978), np.float64(0.3635789092955193), np.float64(0.23271646225373394), np.float64(0.3635980348307538), np.float64(0.8871926321469269), np.float64(1.4107895885596808), np.float64(0.6836073330228807), np.float64(0.16000673823521508), np.float64(0.3635938565524495), np.float64(0.5962937964369716), np.float64(0.9598777126848292), np.float64(1.1925875928739433), np.float64(0.5962937964369718), np.float64(0.23270988018911437), np.float64(0.5962937964369714), np.float64(1.1198907528497257), np.float64(1.643489528444203), np.float64(0.45090193557026015), np.float64(0.0726968400242177), np.float64(0.36360940119067064), np.float64(1.912553445299817e-05), np.float64(0.3635789092955193), np.float64(0.5962953715492533), np.float64(0.5963094319038781), np.float64(0.5236137228514072), np.float64(1.4947253704319952e-05), np.float64(0.5235856475307351), np.float64(1.0471862423184004), np.float64(1.0472106792641611), np.float64(1.1926048034531318), np.float64(0.9598883411993978), np.float64(0.5962903063686437), np.float64(0.23270003071320775), np.float64(0.5963094319038781), np.float64(1.6434956742222786), np.float64(1.1198950794346136), np.float64(0.5962944846469485), np.float64(0.07269570905247086), np.float64(0.4509012473602828), np.float64(2.0943682663458576), np.float64(1.5707694909554515), np.float64(1.0471841331729288), np.float64(0.5235987753904059), np.float64(2.0944085204168643), np.float64(2.545270735949307), np.float64(1.7307854112464192), np.float64(1.0471841331729288), np.float64(0.3635828550994387), np.float64(0.45090246960345026), np.float64(0.523612193621968), np.float64(1.5707963267948966), np.float64(1.0472109690123736), np.float64(0.523612193621968), np.float64(0.9745025303579251), np.float64(2.618007006059058), np.float64(2.0216975741551795), np.float64(1.207212410547039), np.float64(0.5236047730659698), np.float64(0.16000673823521508), np.float64(0.5235987753904059), np.float64(1.0471841331729288), np.float64(1.0472243872439357), np.float64(0.523612193621968), np.float64(0.6836002169250712), np.float64(1.4980853805332117), np.float64(3.1415661074983845), np.float64(1.4981147239798929), np.float64(0.6836189318571835), np.float64(7.420568817524111e-06), np.float64(0.5235853577825226), np.float64(1.0471707155650456), np.float64(1.5707694909554515), np.float64(0.5235987753904059), np.float64(0.5235853577825228), np.float64(1.2071866358560133), np.float64(2.0216719605589013), np.float64(2.6180072958072707), np.float64(0.9745012449938557), np.float64(0.16001592029096737), np.float64(0.5235853577825226), np.float64(1.0471841331729288), np.float64(1.5707963267948966), np.float64(2.0944085204168643), np.float64(0.36358391624785746), np.float64(1.047191553728927), np.float64(1.7308030650301123), np.float64(2.5452988571528214), np.float64(2.094381974325632), np.float64(0.4509012473602828), np.float64(0.5962937964369718), np.float64(1.1925875928739433), np.float64(0.9598777126848292), np.float64(0.5962937964369716), np.float64(0.23270988018911437), np.float64(1.643489528444203), np.float64(1.1198907528497257), np.float64(0.5962937964369714), np.float64(0.0726968400242177), np.float64(0.45090193557026015), np.float64(0.23271646225373394), np.float64(0.3635789092955193), np.float64(0.9598883411993978), np.float64(0.7271883104861903), np.float64(0.3635980348307538), np.float64(0.6836073330228807), np.float64(1.4107895885596808), np.float64(0.8871926321469269), np.float64(0.3635938565524495), np.float64(0.16000673823521508), np.float64(0.3635902756554367), np.float64(0.5962903063686437), np.float64(1.912553445299817e-05), np.float64(0.5963144970844879), np.float64(0.3635980348307538), np.float64(0.5235945973161729), np.float64(1.047191553728927), np.float64(1.047205367853635), np.float64(0.52360477306597), np.float64(4.178334489585642e-06), np.float64(0.36358391624785746), np.float64(0.7271678324957153), np.float64(0.9598777126848292), np.float64(0.36358391624785746), np.float64(0.23270988018911437), np.float64(0.36358391624785746), np.float64(0.8871808726606119), np.float64(1.4107796482550892), np.float64(0.6836118157593742), np.float64(0.16001304016489765), np.float64(0.23270003071320775), np.float64(0.5962903063686437), np.float64(0.9598883411993978), np.float64(1.1926048034531318), np.float64(0.5963094319038781), np.float64(0.07269570905247086), np.float64(0.5962944846469485), np.float64(1.1198950794346136), np.float64(1.6434956742222786), np.float64(0.4509012473602828), np.float64(0.5962953715492533), np.float64(0.3635789092955193), np.float64(1.912553445299817e-05), np.float64(0.36360940119067064), np.float64(0.5963094319038781), np.float64(1.0471862423184004), np.float64(0.5235856475307351), np.float64(1.4947253704319952e-05), np.float64(0.5236137228514072), np.float64(1.0472106792641611), np.float64(2.0944085204168643), np.float64(2.6180072958072707), np.float64(3.141592653589793), np.float64(2.6180072958072707), np.float64(2.0944085204168643), np.float64(1.6435060508134147), np.float64(2.4579913755163028), np.float64(3.141592653589793), np.float64(2.4579913755163028), np.float64(1.6435060508134147), np.float64(0.4508903367359574), np.float64(2.5452988571528214), np.float64(2.021713499370299), np.float64(1.4981147239798929), np.float64(0.9745025303579251), np.float64(1.6435044757011328), np.float64(2.9962001045131053), np.float64(2.181714940904964), np.float64(1.4981073034238948), np.float64(0.8144957921227094), np.float64(0.16000144153466453), np.float64(0.36358391624785746), np.float64(1.7308246041690067), np.float64(1.207212410547039), np.float64(0.6836002169250712), np.float64(0.8144851636081405), np.float64(2.45796589057349), np.float64(2.181714940904964), np.float64(1.3672191487822545), np.float64(0.6836076374810692), np.float64(0.0), np.float64(0.5235853577825228), np.float64(1.0471841331729288), np.float64(1.0471841331729288), np.float64(0.5235853577825228), np.float64(0.6836012780734908), np.float64(1.4980866027763784), np.float64(3.141592653589793), np.float64(1.4980866027763784), np.float64(0.6836012780734908), np.float64(0.16000144153466453), np.float64(0.6836002169250712), np.float64(1.207212410547039), np.float64(1.7308246041690067), np.float64(0.36358391624785746), np.float64(0.6836076374810692), np.float64(1.3672191487822545), np.float64(2.181714940904964), np.float64(2.45796589057349), np.float64(0.8144851636081405), np.float64(0.4508903367359574), np.float64(0.9745025303579251), np.float64(1.4981147239798929), np.float64(2.021713499370299), np.float64(2.5452988571528214), np.float64(0.8144957921227094), np.float64(1.4981073034238948), np.float64(2.181714940904964), np.float64(2.9962001045131053), np.float64(1.6435044757011328), np.float64(0.4508908707691473), np.float64(1.0471862423184004), np.float64(1.6434956742222786), np.float64(1.410795643509071), np.float64(1.047205367853635), np.float64(0.6836073330228807), np.float64(2.0943969215825615), np.float64(1.5707999651698075), np.float64(1.0472011895753301), np.float64(0.5236005947876651), np.float64(0.16000432166073672), np.float64(0.07269570905247086), np.float64(0.5236137228514072), np.float64(1.1199090944006607), np.float64(0.8871926321469269), np.float64(0.5235945973161729), np.float64(0.5235969564127544), np.float64(1.5707999651698075), np.float64(1.0471993703821425), np.float64(0.5235987755944775), np.float64(0.0), np.float64(0.36358391624785746), np.float64(0.5962937964369714), np.float64(0.0), np.float64(0.5962937964369714), np.float64(0.36358391624785746), np.float64(0.5235969564127544), np.float64(1.0471957320072316), np.float64(1.0471957320072316), np.float64(0.5235969564127544), np.float64(0.16000432166073672), np.float64(0.5235945973161729), np.float64(0.8871926321469269), np.float64(1.1199090944006607), np.float64(0.5236137228514072), np.float64(0.07269570905247086), np.float64(0.5235987755944775), np.float64(1.0471993703821425), np.float64(1.5707999651698075), np.float64(0.5235969564127544), np.float64(0.4508908707691473), np.float64(0.6836073330228807), np.float64(1.047205367853635), np.float64(1.410795643509071), np.float64(1.6434956742222786), np.float64(1.0471862423184004), np.float64(0.5236005947876651), np.float64(1.0472011895753301), np.float64(1.5707999651698075), np.float64(2.0943969215825615), np.float64(0.45090246960345026), np.float64(0.9745012449938557), np.float64(1.4980866027763784), np.float64(2.0216719605589013), np.float64(2.545270735949307), np.float64(1.6435060508134147), np.float64(0.8144853247028879), np.float64(1.4980866027763784), np.float64(2.1816878808498688), np.float64(2.9961732055527572), np.float64(2.09439481243709), np.float64(2.094381974325632), np.float64(2.6179673321081554), np.float64(3.1415661074983845), np.float64(2.618007006059058), np.float64(1.6435044757011328), np.float64(1.6434807269653489), np.float64(2.45796589057349), np.float64(3.14157352805534), np.float64(2.4580002678238424), np.float64(0.9744866051428057), np.float64(0.4509012473602828), np.float64(2.5453097677771472), np.float64(2.0216975741551795), np.float64(1.4980853805332117), np.float64(0.8144851636081405), np.float64(1.6434807269653489), np.float64(2.9962001045131053), np.float64(2.181704312390395), np.float64(1.4980928010892098), np.float64(0.6836012780734906), np.float64(0.16001592029096737), np.float64(0.3635828550994387), np.float64(1.7307854112464192), np.float64(1.2071866358560133), np.float64(0.6836012780734908), np.float64(0.8144853247028879), np.float64(2.4579913755163028), np.float64(2.1816878808498688), np.float64(1.3672025561469812), np.float64(0.5236061959464039), np.float64(7.420568817524111e-06), np.float64(0.5236047730659698), np.float64(1.0472169666879376), np.float64(1.047191553728927), np.float64(0.6836076374810692), np.float64(0.6836115113011855), np.float64(1.4981073034238948), np.float64(3.14157352805534), np.float64(1.4980928010892098), np.float64(0.3636054553867524), np.float64(0.16000673823521508), np.float64(0.6836189318571835), np.float64(1.2072177072475891), np.float64(1.7308030650301123), np.float64(0.8144957921227094), np.float64(0.6836115113011855), np.float64(1.3672191487822545), np.float64(2.181704312390395), np.float64(2.4580002678238424), np.float64(1.0471957320072316), np.float64(0.45090193557026015), np.float64(0.6836118157593742), np.float64(1.0471957320072316), np.float64(1.4107796482550892), np.float64(1.643489528444203), np.float64(0.5235987755944775), np.float64(1.0471957320072316), np.float64(1.5707926884199856), np.float64(2.094391464014463), np.float64(0.6836012780734908), np.float64(0.4509012473602828), np.float64(1.0472106792641611), np.float64(1.6435060508134147), np.float64(1.4107895885596808), np.float64(1.047191553728927), np.float64(0.5235969564127544), np.float64(2.0943969215825615), np.float64(1.5707963267948966), np.float64(1.0471957320072316), np.float64(0.5235969564127542), np.float64(0.16001304016489765), np.float64(0.0726968400242177), np.float64(0.5235969564127542), np.float64(1.1198907528497257), np.float64(0.8871808726606119), np.float64(0.5235969564127544), np.float64(0.5235987755944775), np.float64(1.5707926884199856), np.float64(1.0471939128255086), np.float64(0.36359445393374107), np.float64(4.178334489585642e-06), np.float64(0.3635938565524495), np.float64(0.5963103188061833), np.float64(1.4947253704319952e-05), np.float64(0.5962944846469485), np.float64(0.5235987755944775), np.float64(0.5236005947876651), np.float64(1.0472011895753301), np.float64(1.0471957320072316), np.float64(0.0727097240185177), np.float64(0.16000673823521508), np.float64(0.52360477306597), np.float64(0.8871950487214062), np.float64(1.1198950794346136), np.float64(0.5235856475307351), np.float64(0.5236005947876651), np.float64(0.5236005947876651), np.float64(1.0471993703821425), np.float64(1.5707963267948966), np.float64(0.3635828550994387), np.float64(0.16001592029096737), np.float64(0.6836012780734906), np.float64(1.2071866358560133), np.float64(1.7307854112464192), np.float64(2.4579913755163028), np.float64(0.8144853247028879), np.float64(0.6836012780734908), np.float64(1.3672025561469812), np.float64(2.1816878808498688), np.float64(2.5453097677771472), np.float64(0.4509012473602828), np.float64(0.9744866051428057), np.float64(1.4980853805332117), np.float64(2.0216975741551795), np.float64(2.9962001045131053), np.float64(1.6434807269653489), np.float64(0.8144851636081405), np.float64(1.4980928010892098), np.float64(2.181704312390395), np.float64(2.6179673321081554), np.float64(2.094381974325632), np.float64(2.09439481243709), np.float64(2.618007006059058), np.float64(3.1415661074983845), np.float64(2.45796589057349), np.float64(1.6434807269653489), np.float64(1.6435044757011328), np.float64(2.4580002678238424), np.float64(3.14157352805534), np.float64(1.4980866027763784), np.float64(0.9745012449938557), np.float64(0.45090246960345026), np.float64(2.545270735949307), np.float64(2.0216719605589013), np.float64(1.4980866027763784), np.float64(0.8144853247028879), np.float64(1.6435060508134147), np.float64(2.9961732055527572), np.float64(2.1816878808498688), np.float64(1.2072177072475891), np.float64(0.6836189318571835), np.float64(0.16000673823521508), np.float64(0.3636054553867524), np.float64(1.7308030650301123), np.float64(1.3672191487822545), np.float64(0.6836115113011855), np.float64(0.8144957921227094), np.float64(2.4580002678238424), np.float64(2.181704312390395), np.float64(1.0472169666879376), np.float64(0.5236047730659698), np.float64(7.420568817524111e-06), np.float64(0.5236061959464039), np.float64(1.047191553728927), np.float64(1.4981073034238948), np.float64(0.6836115113011855), np.float64(0.6836076374810692), np.float64(1.4980928010892098), np.float64(3.14157352805534), np.float64(0.5235969564127542), np.float64(0.0726968400242177), np.float64(0.16001304016489765), np.float64(0.5235969564127542), np.float64(0.8871808726606119), np.float64(1.1198907528497257), np.float64(0.5235987755944775), np.float64(0.5235969564127544), np.float64(1.0471939128255086), np.float64(1.5707926884199856), np.float64(1.6435060508134147), np.float64(1.0472106792641611), np.float64(0.4509012473602828), np.float64(0.6836012780734908), np.float64(1.047191553728927), np.float64(1.4107895885596808), np.float64(2.0943969215825615), np.float64(0.5235969564127544), np.float64(1.0471957320072316), np.float64(1.5707963267948966), np.float64(1.0471957320072316), np.float64(0.6836118157593742), np.float64(0.45090193557026015), np.float64(1.0471957320072316), np.float64(1.643489528444203), np.float64(1.4107796482550892), np.float64(1.0471957320072316), np.float64(0.5235987755944775), np.float64(2.094391464014463), np.float64(1.5707926884199856), np.float64(0.8871950487214062), np.float64(0.52360477306597), np.float64(0.16000673823521508), np.float64(0.0727097240185177), np.float64(0.5235856475307351), np.float64(1.1198950794346136), np.float64(1.0471993703821425), np.float64(0.5236005947876651), np.float64(0.5236005947876651), np.float64(1.5707963267948966), np.float64(0.5963103188061833), np.float64(0.3635938565524495), np.float64(4.178334489585642e-06), np.float64(0.36359445393374107), np.float64(0.5962944846469485), np.float64(1.4947253704319952e-05), np.float64(1.0472011895753301), np.float64(0.5236005947876651), np.float64(0.5235987755944775), np.float64(1.0471957320072316), np.float64(1.0471841331729288), np.float64(0.5235853577825228), np.float64(0.0), np.float64(0.5235853577825228), np.float64(1.0471841331729288), np.float64(3.141592653589793), np.float64(1.4980866027763784), np.float64(0.6836012780734908), np.float64(0.6836012780734908), np.float64(1.4980866027763784), np.float64(1.7308246041690067), np.float64(0.36358391624785746), np.float64(0.16000144153466453), np.float64(0.6836002169250712), np.float64(1.207212410547039), np.float64(2.181714940904964), np.float64(2.45796589057349), np.float64(0.8144851636081405), np.float64(0.6836076374810692), np.float64(1.3672191487822545), np.float64(2.021713499370299), np.float64(2.5452988571528214), np.float64(0.4508903367359574), np.float64(0.9745025303579251), np.float64(1.4981147239798929), np.float64(2.181714940904964), np.float64(2.9962001045131053), np.float64(1.6435044757011328), np.float64(0.8144957921227094), np.float64(1.4981073034238948), np.float64(3.141592653589793), np.float64(2.6180072958072707), np.float64(2.0944085204168643), np.float64(2.0944085204168643), np.float64(2.6180072958072707), np.float64(3.141592653589793), np.float64(2.4579913755163028), np.float64(1.6435060508134147), np.float64(1.6435060508134147), np.float64(2.4579913755163028), np.float64(2.021713499370299), np.float64(1.4981147239798929), np.float64(0.9745025303579251), np.float64(0.4508903367359574), np.float64(2.5452988571528214), np.float64(2.181714940904964), np.float64(1.4981073034238948), np.float64(0.8144957921227094), np.float64(1.6435044757011328), np.float64(2.9962001045131053), np.float64(1.7308246041690067), np.float64(1.207212410547039), np.float64(0.6836002169250712), np.float64(0.16000144153466453), np.float64(0.36358391624785746), np.float64(2.181714940904964), np.float64(1.3672191487822545), np.float64(0.6836076374810692), np.float64(0.8144851636081405), np.float64(2.45796589057349), np.float64(0.0), np.float64(0.5962937964369714), np.float64(0.36358391624785746), np.float64(0.0), np.float64(0.36358391624785746), np.float64(0.5962937964369714), np.float64(1.0471957320072316), np.float64(0.5235969564127544), np.float64(0.5235969564127544), np.float64(1.0471957320072316), np.float64(1.1199090944006607), np.float64(0.5236137228514072), np.float64(0.07269570905247086), np.float64(0.16000432166073672), np.float64(0.5235945973161729), np.float64(0.8871926321469269), np.float64(1.5707999651698075), np.float64(0.5235969564127544), np.float64(0.5235987755944775), np.float64(1.0471993703821425), np.float64(1.410795643509071), np.float64(1.6434956742222786), np.float64(1.0471862423184004), np.float64(0.4508908707691473), np.float64(0.6836073330228807), np.float64(1.047205367853635), np.float64(1.5707999651698075), np.float64(2.0943969215825615), np.float64(0.5236005947876651), np.float64(1.0472011895753301), np.float64(1.410795643509071), np.float64(1.047205367853635), np.float64(0.6836073330228807), np.float64(0.4508908707691473), np.float64(1.0471862423184004), np.float64(1.6434956742222786), np.float64(1.5707999651698075), np.float64(1.0472011895753301), np.float64(0.5236005947876651), np.float64(2.0943969215825615), np.float64(1.1199090944006607), np.float64(0.8871926321469269), np.float64(0.5235945973161729), np.float64(0.16000432166073672), np.float64(0.07269570905247086), np.float64(0.5236137228514072), np.float64(1.5707999651698075), np.float64(1.0471993703821425), np.float64(0.5235987755944775), np.float64(0.5235969564127544), np.float64(1.7307854112464192), np.float64(1.2071866358560133), np.float64(0.6836012780734906), np.float64(0.16001592029096737), np.float64(0.3635828550994387), np.float64(2.4579913755163028), np.float64(2.1816878808498688), np.float64(1.3672025561469812), np.float64(0.6836012780734908), np.float64(0.8144853247028879), np.float64(1.0472169666879376), np.float64(1.047191553728927), np.float64(0.5236061959464039), np.float64(7.420568817524111e-06), np.float64(0.5236047730659698), np.float64(1.4981073034238948), np.float64(3.14157352805534), np.float64(1.4980928010892098), np.float64(0.6836076374810692), np.float64(0.6836115113011855), np.float64(1.2072177072475891), np.float64(1.7308030650301123), np.float64(0.3636054553867524), np.float64(0.16000673823521508), np.float64(0.6836189318571835), np.float64(1.3672191487822545), np.float64(2.181704312390395), np.float64(2.4580002678238424), np.float64(0.8144957921227094), np.float64(0.6836115113011855), np.float64(1.4980866027763784), np.float64(2.0216719605589013), np.float64(2.545270735949307), np.float64(0.45090246960345026), np.float64(0.9745012449938557), np.float64(1.4980866027763784), np.float64(2.1816878808498688), np.float64(2.9961732055527572), np.float64(1.6435060508134147), np.float64(0.8144853247028879), np.float64(2.6179673321081554), np.float64(3.1415661074983845), np.float64(2.618007006059058), np.float64(2.09439481243709), np.float64(2.094381974325632), np.float64(2.45796589057349), np.float64(3.14157352805534), np.float64(2.4580002678238424), np.float64(1.6435044757011328), np.float64(1.6434807269653489), np.float64(2.5453097677771472), np.float64(2.0216975741551795), np.float64(1.4980853805332117), np.float64(0.9744866051428057), np.float64(0.4509012473602828), np.float64(2.9962001045131053), np.float64(2.181704312390395), np.float64(1.4980928010892098), np.float64(0.8144851636081405), np.float64(1.6434807269653489), np.float64(0.5235969564127542), np.float64(1.1198907528497257), np.float64(0.8871808726606119), np.float64(0.5235969564127542), np.float64(0.16001304016489765), np.float64(0.0726968400242177), np.float64(1.5707926884199856), np.float64(1.0471939128255086), np.float64(0.5235969564127544), np.float64(0.5235987755944775), np.float64(0.5963103188061833), np.float64(1.4947253704319952e-05), np.float64(0.5962944846469485), np.float64(0.36359445393374107), np.float64(4.178334489585642e-06), np.float64(0.3635938565524495), np.float64(1.0472011895753301), np.float64(1.0471957320072316), np.float64(0.5235987755944775), np.float64(0.5236005947876651), np.float64(0.8871950487214062), np.float64(1.1198950794346136), np.float64(0.5235856475307351), np.float64(0.0727097240185177), np.float64(0.16000673823521508), np.float64(0.52360477306597), np.float64(1.0471993703821425), np.float64(1.5707963267948966), np.float64(0.5236005947876651), np.float64(0.5236005947876651), np.float64(1.0471957320072316), np.float64(1.4107796482550892), np.float64(1.643489528444203), np.float64(1.0471957320072316), np.float64(0.45090193557026015), np.float64(0.6836118157593742), np.float64(1.0471957320072316), np.float64(1.5707926884199856), np.float64(2.094391464014463), np.float64(0.5235987755944775), np.float64(1.6435060508134147), np.float64(1.4107895885596808), np.float64(1.047191553728927), np.float64(0.6836012780734908), np.float64(0.4509012473602828), np.float64(1.0472106792641611), np.float64(2.0943969215825615), np.float64(1.5707963267948966), np.float64(1.0471957320072316), np.float64(0.5235969564127544), np.float64(2.545270735949307), np.float64(2.0216719605589013), np.float64(1.4980866027763784), np.float64(0.9745012449938557), np.float64(0.45090246960345026), np.float64(1.6435060508134147), np.float64(2.9961732055527572), np.float64(2.1816878808498688), np.float64(1.4980866027763784), np.float64(0.8144853247028879), np.float64(0.3636054553867524), np.float64(1.7308030650301123), np.float64(1.2072177072475891), np.float64(0.6836189318571835), np.float64(0.16000673823521508), np.float64(0.8144957921227094), np.float64(2.4580002678238424), np.float64(2.181704312390395), np.float64(1.3672191487822545), np.float64(0.6836115113011855), np.float64(0.5236061959464039), np.float64(1.047191553728927), np.float64(1.0472169666879376), np.float64(0.5236047730659698), np.float64(7.420568817524111e-06), np.float64(0.6836076374810692), np.float64(1.4980928010892098), np.float64(3.14157352805534), np.float64(1.4981073034238948), np.float64(0.6836115113011855), np.float64(0.6836012780734906), np.float64(1.2071866358560133), np.float64(1.7307854112464192), np.float64(0.3635828550994387), np.float64(0.16001592029096737), np.float64(0.6836012780734908), np.float64(1.3672025561469812), np.float64(2.1816878808498688), np.float64(2.4579913755163028), np.float64(0.8144853247028879), np.float64(0.9744866051428057), np.float64(1.4980853805332117), np.float64(2.0216975741551795), np.float64(2.5453097677771472), np.float64(0.4509012473602828), np.float64(0.8144851636081405), np.float64(1.4980928010892098), np.float64(2.181704312390395), np.float64(2.9962001045131053), np.float64(1.6434807269653489), np.float64(2.09439481243709), np.float64(2.618007006059058), np.float64(3.1415661074983845), np.float64(2.6179673321081554), np.float64(2.094381974325632), np.float64(1.6435044757011328), np.float64(2.4580002678238424), np.float64(3.14157352805534), np.float64(2.45796589057349), np.float64(1.6434807269653489), np.float64(1.0471957320072316), np.float64(1.643489528444203), np.float64(1.4107796482550892), np.float64(1.0471957320072316), np.float64(0.6836118157593742), np.float64(0.45090193557026015), np.float64(2.094391464014463), np.float64(1.5707926884199856), np.float64(1.0471957320072316), np.float64(0.5235987755944775), np.float64(0.0727097240185177), np.float64(0.5235856475307351), np.float64(1.1198950794346136), np.float64(0.8871950487214062), np.float64(0.52360477306597), np.float64(0.16000673823521508), np.float64(0.5236005947876651), np.float64(1.5707963267948966), np.float64(1.0471993703821425), np.float64(0.5236005947876651), np.float64(0.36359445393374107), np.float64(0.5962944846469485), np.float64(1.4947253704319952e-05), np.float64(0.5963103188061833), np.float64(0.3635938565524495), np.float64(4.178334489585642e-06), np.float64(0.5235987755944775), np.float64(1.0471957320072316), np.float64(1.0472011895753301), np.float64(0.5236005947876651), np.float64(0.5235969564127542), np.float64(0.8871808726606119), np.float64(1.1198907528497257), np.float64(0.5235969564127542), np.float64(0.0726968400242177), np.float64(0.16001304016489765), np.float64(0.5235969564127544), np.float64(1.0471939128255086), np.float64(1.5707926884199856), np.float64(0.5235987755944775), np.float64(0.6836012780734908), np.float64(1.047191553728927), np.float64(1.4107895885596808), np.float64(1.6435060508134147), np.float64(1.0472106792641611), np.float64(0.4509012473602828), np.float64(0.5235969564127544), np.float64(1.0471957320072316), np.float64(1.5707963267948966), np.float64(2.0943969215825615)]\n"
     ]
    }
   ],
   "execution_count": 10
  },
  {
   "metadata": {},
   "cell_type": "code",
   "outputs": [],
   "execution_count": null,
   "source": "",
   "id": "756b84b5bae55c15"
  }
 ],
 "metadata": {
  "kernelspec": {
   "display_name": "Python 3",
   "language": "python",
   "name": "python3"
  },
  "language_info": {
   "codemirror_mode": {
    "name": "ipython",
    "version": 2
   },
   "file_extension": ".py",
   "mimetype": "text/x-python",
   "name": "python",
   "nbconvert_exporter": "python",
   "pygments_lexer": "ipython2",
   "version": "2.7.6"
  }
 },
 "nbformat": 4,
 "nbformat_minor": 5
}
